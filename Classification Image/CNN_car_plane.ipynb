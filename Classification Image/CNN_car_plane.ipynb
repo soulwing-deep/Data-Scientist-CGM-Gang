{
 "cells": [
  {
   "cell_type": "code",
   "execution_count": 3,
   "metadata": {},
   "outputs": [
    {
     "name": "stderr",
     "output_type": "stream",
     "text": [
      "Using TensorFlow backend.\n"
     ]
    },
    {
     "name": "stdout",
     "output_type": "stream",
     "text": [
      "Found 400 images belonging to 2 classes.\n",
      "Found 100 images belonging to 2 classes.\n",
      "Epoch 1/10\n",
      "25/25 [==============================] - 11s 460ms/step - loss: 0.8697 - accuracy: 0.5825 - val_loss: 0.4453 - val_accuracy: 0.8542\n",
      "Epoch 2/10\n",
      "25/25 [==============================] - 9s 376ms/step - loss: 0.5413 - accuracy: 0.7525 - val_loss: 0.4611 - val_accuracy: 0.8095\n",
      "Epoch 3/10\n",
      "25/25 [==============================] - 9s 378ms/step - loss: 0.4738 - accuracy: 0.8025 - val_loss: 0.5605 - val_accuracy: 0.8333\n",
      "Epoch 4/10\n",
      "25/25 [==============================] - 9s 374ms/step - loss: 0.4174 - accuracy: 0.8250 - val_loss: 0.2580 - val_accuracy: 0.8690\n",
      "Epoch 5/10\n",
      "25/25 [==============================] - 9s 375ms/step - loss: 0.3899 - accuracy: 0.8300 - val_loss: 0.4625 - val_accuracy: 0.8095\n",
      "Epoch 6/10\n",
      "25/25 [==============================] - 9s 376ms/step - loss: 0.4115 - accuracy: 0.8450 - val_loss: 0.3138 - val_accuracy: 0.8452\n",
      "Epoch 7/10\n",
      "25/25 [==============================] - 9s 374ms/step - loss: 0.3356 - accuracy: 0.8525 - val_loss: 0.0299 - val_accuracy: 0.8571\n",
      "Epoch 8/10\n",
      "25/25 [==============================] - 9s 378ms/step - loss: 0.3333 - accuracy: 0.8775 - val_loss: 0.1899 - val_accuracy: 0.8854\n",
      "Epoch 9/10\n",
      "25/25 [==============================] - 9s 380ms/step - loss: 0.2660 - accuracy: 0.8900 - val_loss: 0.4638 - val_accuracy: 0.5952\n",
      "Epoch 10/10\n",
      "25/25 [==============================] - 9s 378ms/step - loss: 0.3389 - accuracy: 0.8900 - val_loss: 0.3221 - val_accuracy: 0.8333\n"
     ]
    }
   ],
   "source": [
    "# importing libraries \n",
    "from keras.preprocessing.image import ImageDataGenerator \n",
    "from keras.models import Sequential \n",
    "from keras.layers import Conv2D, MaxPooling2D \n",
    "from keras.layers import Activation, Dropout, Flatten, Dense \n",
    "from keras import backend as K \n",
    "  \n",
    "  \n",
    "img_width, img_height = 224, 224\n",
    "  \n",
    "train_data_dir = 'v_data/train'\n",
    "validation_data_dir = 'v_data/test'\n",
    "nb_train_samples = 400 \n",
    "nb_validation_samples = 100\n",
    "epochs = 10\n",
    "batch_size = 16\n",
    "  \n",
    "if K.image_data_format() == 'channels_first': \n",
    "    input_shape = (3, img_width, img_height) \n",
    "else: \n",
    "    input_shape = (img_width, img_height, 3) \n",
    "  \n",
    "model = Sequential() \n",
    "model.add(Conv2D(32, (2, 2), input_shape = input_shape)) \n",
    "model.add(Activation('relu')) \n",
    "model.add(MaxPooling2D(pool_size =(2, 2))) \n",
    "  \n",
    "model.add(Conv2D(32, (2, 2))) \n",
    "model.add(Activation('relu')) \n",
    "model.add(MaxPooling2D(pool_size =(2, 2))) \n",
    "  \n",
    "model.add(Conv2D(64, (2, 2))) \n",
    "model.add(Activation('relu')) \n",
    "model.add(MaxPooling2D(pool_size =(2, 2))) \n",
    "  \n",
    "model.add(Flatten()) \n",
    "model.add(Dense(64)) \n",
    "model.add(Activation('relu')) \n",
    "model.add(Dropout(0.5)) \n",
    "model.add(Dense(1)) \n",
    "model.add(Activation('sigmoid')) \n",
    "  \n",
    "model.compile(loss ='binary_crossentropy', \n",
    "                     optimizer ='rmsprop', \n",
    "                   metrics =['accuracy']) \n",
    "  \n",
    "train_datagen = ImageDataGenerator( \n",
    "                rescale = 1. / 255, \n",
    "                 shear_range = 0.2, \n",
    "                  zoom_range = 0.2, \n",
    "            horizontal_flip = True) \n",
    "  \n",
    "test_datagen = ImageDataGenerator(rescale = 1. / 255) \n",
    "  \n",
    "train_generator = train_datagen.flow_from_directory(train_data_dir, \n",
    "                              target_size =(img_width, img_height), \n",
    "                     batch_size = batch_size, class_mode ='binary') \n",
    "  \n",
    "validation_generator = test_datagen.flow_from_directory( \n",
    "                                    validation_data_dir, \n",
    "                   target_size =(img_width, img_height), \n",
    "          batch_size = batch_size, class_mode ='binary') \n",
    "  \n",
    "model.fit_generator(train_generator, \n",
    "    steps_per_epoch = nb_train_samples // batch_size, \n",
    "    epochs = epochs, validation_data = validation_generator, \n",
    "    validation_steps = nb_validation_samples // batch_size) \n",
    "  \n",
    "model.save_weights('model_saved.h5') "
   ]
  },
  {
   "cell_type": "code",
   "execution_count": null,
   "metadata": {},
   "outputs": [],
   "source": []
  }
 ],
 "metadata": {
  "kernelspec": {
   "display_name": "Python 3",
   "language": "python",
   "name": "python3"
  },
  "language_info": {
   "codemirror_mode": {
    "name": "ipython",
    "version": 3
   },
   "file_extension": ".py",
   "mimetype": "text/x-python",
   "name": "python",
   "nbconvert_exporter": "python",
   "pygments_lexer": "ipython3",
   "version": "3.7.7"
  }
 },
 "nbformat": 4,
 "nbformat_minor": 4
}
