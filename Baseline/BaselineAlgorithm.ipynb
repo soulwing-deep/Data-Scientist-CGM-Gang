{
 "cells": [
  {
   "cell_type": "markdown",
   "metadata": {},
   "source": [
    "# Baseline Algorithm\n",
    "\n",
    "* ใช้สร้างชุดคำตอบมาตรฐานสำหรับการ test โดยอ้างอิงชุดคำตอบจากข้อมูลกลุ่ม train\n",
    "* นำชุดคำตอบที่ได้จาก baseline algorithm มาเปรียบเทียบกับชุดคำตอบจริงของชุด test เพื่อคำนวณหาค่ายอมรับพื้นฐานสำหรับจำนวน item ที่มาใช้ใน trainig set\n",
    "\n",
    "## baseline algorithm แบ่งเป็น\n",
    "* Random Algorithm\n",
    "* Zero Rule Algorithm\n",
    "<hr>"
   ]
  },
  {
   "cell_type": "markdown",
   "metadata": {},
   "source": [
    "# Random Algorithm\n",
    "* ดูคำตอบใน train set ว่ามีกี่ class\n",
    "* สุ่มสร้างคำตอบเท่ากับจำนวน test set\n",
    "* ทุกครั้งที่สุ่มต้องได้กลุ่มคำตอบเดิม"
   ]
  },
  {
   "cell_type": "code",
   "execution_count": null,
   "metadata": {},
   "outputs": [],
   "source": [
    "from random import seed\n",
    "from random import randrange"
   ]
  },
  {
   "cell_type": "code",
   "execution_count": 2,
   "metadata": {},
   "outputs": [],
   "source": [
    "# Generate random predictions\n",
    "def random_algorithm(train, test):\n",
    "    output_values = [row[-1] for row in train]\n",
    "    unique = list(set(output_values)) #ดูว่ามีกี่ class\n",
    "    predicted = list()\n",
    "    seed(1) #fix การสุ่ม\n",
    "    for row in test:\n",
    "        index = randrange(len(unique))\n",
    "        predicted.append(unique[index]) #สร้างชุดคำตอบ\n",
    "    return predicted"
   ]
  },
  {
   "cell_type": "code",
   "execution_count": 3,
   "metadata": {},
   "outputs": [
    {
     "name": "stdout",
     "output_type": "stream",
     "text": [
      "[0, 0, 1, 0]\n"
     ]
    }
   ],
   "source": [
    "train = [[0], [1], [0], [1], [0], [1]]\n",
    "test = [[None], [None], [None], [None]]\n",
    "predictions = random_algorithm(train, test)\n",
    "print(predictions)"
   ]
  },
  {
   "cell_type": "markdown",
   "metadata": {},
   "source": [
    "# Zero Rule Algorithm (classification)\n",
    "* หากลุ่มคำตอบที่มากที่สุดใน train set\n",
    "* กำหนดให้ชุดคำตอบใน baseline คือค่าที่มีจำนวนมากที่สุดในชุด train"
   ]
  },
  {
   "cell_type": "code",
   "execution_count": 4,
   "metadata": {},
   "outputs": [],
   "source": [
    "# zero rule algorithm for classification\n",
    "def zero_rule_algorithm_classification(train, test):\n",
    "    output_values = [row[-1] for row in train]\n",
    "    prediction = max(set(output_values), key=output_values.count) #หาว่า class ใดซ้ำมากที่สุด\n",
    "    predicted = [prediction for i in range(len(test))]\n",
    "    return predicted"
   ]
  },
  {
   "cell_type": "code",
   "execution_count": 5,
   "metadata": {},
   "outputs": [
    {
     "name": "stdout",
     "output_type": "stream",
     "text": [
      "['0', '0', '0', '0']\n"
     ]
    }
   ],
   "source": [
    "train = [['0'], ['0'], ['0'], ['0'], ['1'], ['1']]\n",
    "test = [[None], [None], [None], [None]]\n",
    "predictions = zero_rule_algorithm_classification(train, test)\n",
    "print(predictions)"
   ]
  },
  {
   "cell_type": "markdown",
   "metadata": {},
   "source": [
    "# Zero Rule Algorithm (regression)\n",
    "* regression ต้องการหาค่าตัวเลขที่นำมาเป็น baseline \n",
    "* นำ label ใน train set มาหาค่าเฉลี่ย\n",
    "* กำหนดให้ชุดคำตอบใน baseline คือค่าเฉลี่ย"
   ]
  },
  {
   "cell_type": "code",
   "execution_count": 6,
   "metadata": {},
   "outputs": [],
   "source": [
    "# zero rule algorithm for regression\n",
    "def zero_rule_algorithm_regression(train, test):\n",
    "    output_values = [row[-1] for row in train]\n",
    "    prediction = sum(output_values) / float(len(output_values)) #หาค่าเฉลี่ย\n",
    "    predicted = [prediction for i in range(len(test))]\n",
    "    return predicted"
   ]
  },
  {
   "cell_type": "code",
   "execution_count": 7,
   "metadata": {},
   "outputs": [
    {
     "name": "stdout",
     "output_type": "stream",
     "text": [
      "[15.0, 15.0, 15.0, 15.0]\n"
     ]
    }
   ],
   "source": [
    "train = [[10], [15], [12], [15], [18], [20]]\n",
    "test = [[None], [None], [None], [None]]\n",
    "predictions = zero_rule_algorithm_regression(train, test)\n",
    "print(predictions)"
   ]
  }
 ],
 "metadata": {
  "kernelspec": {
   "display_name": "Python 3",
   "language": "python",
   "name": "python3"
  },
  "language_info": {
   "codemirror_mode": {
    "name": "ipython",
    "version": 3
   },
   "file_extension": ".py",
   "mimetype": "text/x-python",
   "name": "python",
   "nbconvert_exporter": "python",
   "pygments_lexer": "ipython3",
   "version": "3.7.7"
  }
 },
 "nbformat": 4,
 "nbformat_minor": 4
}
